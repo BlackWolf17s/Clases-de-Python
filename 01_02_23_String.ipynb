{
  "nbformat": 4,
  "nbformat_minor": 0,
  "metadata": {
    "colab": {
      "provenance": [],
      "authorship_tag": "ABX9TyM6dX9EP+kbzb7gimQaQtyb",
      "include_colab_link": true
    },
    "kernelspec": {
      "name": "python3",
      "display_name": "Python 3"
    },
    "language_info": {
      "name": "python"
    }
  },
  "cells": [
    {
      "cell_type": "markdown",
      "metadata": {
        "id": "view-in-github",
        "colab_type": "text"
      },
      "source": [
        "<a href=\"https://colab.research.google.com/github/BlackWolf17s/Clases-de-Python/blob/main/01_02_23_String.ipynb\" target=\"_parent\"><img src=\"https://colab.research.google.com/assets/colab-badge.svg\" alt=\"Open In Colab\"/></a>"
      ]
    },
    {
      "cell_type": "markdown",
      "source": [
        "# String"
      ],
      "metadata": {
        "id": "EAm176KthicJ"
      }
    },
    {
      "cell_type": "markdown",
      "source": [
        "Son el tipo de dato que incluye Textos. Cualquier informacion escrita como un texto es considerado como un \"String\"."
      ],
      "metadata": {
        "id": "d2pvtQ9Ghq5g"
      }
    },
    {
      "cell_type": "code",
      "execution_count": null,
      "metadata": {
        "id": "03O51GYphgvR"
      },
      "outputs": [],
      "source": [
        "letra = "
      ]
    },
    {
      "cell_type": "markdown",
      "source": [
        "Tambien podemos crear Strings multilineas haciendo uso de tres comillas simples(\") o tres pares de comillas dobles(\"\")"
      ],
      "metadata": {
        "id": "wwrnbL_Gh84I"
      }
    },
    {
      "cell_type": "code",
      "source": [
        "multiline_string = '''Pac Man originalmente se llamaba Puck Man.\n",
        "Lo cambiaron no porque Pac-man fuera redondo.\n",
        "Paku paku significa abrir y cerrar la boca y tuvieron miedo de que la gente tachara la 'P' y la convierten en 'F'. \"\"\"\n",
        "print(multiline_string)\n",
        "string = 'hola'mundo'otra vez'"
      ],
      "metadata": {
        "id": "BaIXt3uviMxY"
      },
      "execution_count": null,
      "outputs": []
    },
    {
      "cell_type": "markdown",
      "source": [
        "## Secuencias de Escape"
      ],
      "metadata": {
        "id": "sX2b2cmLi63I"
      }
    },
    {
      "cell_type": "markdown",
      "source": [
        "* \\n Linea Nueva\n",
        "* \\n Tabulacion (8 espacios)\n",
        "* \\n Back slash\n",
        "* ': Single quote(')\n",
        "* \": Double quote(\")"
      ],
      "metadata": {
        "id": "DOek1cgYjowY"
      }
    },
    {
      "cell_type": "code",
      "source": [
        "print('Este es un ejemplo de salto de linea. \\n¿Lo notas?') # line break\n",
        "print('Dia\\tTemas\\tEjercicios') # Agregado una tabulacion\n",
        "print('Dia 1\\t3\\t5')"
      ],
      "metadata": {
        "id": "WqLvd5nmi92I",
        "colab": {
          "base_uri": "https://localhost:8080/"
        },
        "outputId": "586ca54c-06fa-48fe-c0a5-593db5eb5c24"
      },
      "execution_count": 4,
      "outputs": [
        {
          "output_type": "stream",
          "name": "stdout",
          "text": [
            "Este es un ejemplo de salto de linea. \n",
            "¿Lo notas?\n",
            "Dia\tTemas\tEjercicios\n",
            "Dia 1\t3\t5\n"
          ]
        }
      ]
    },
    {
      "cell_type": "markdown",
      "source": [
        "## Strings con Variables"
      ],
      "metadata": {
        "id": "WKp3vHEsk0Xi"
      }
    },
    {
      "cell_type": "code",
      "source": [
        "name, surname, alias, age = \"Gerardo\", \"Garrido\", \"BlackWolf\", 24\n",
        "\n",
        "print(\"Me llamo:\", name, surname)\n",
        "print(\"Mi edad es:\", age, \", Mis amigos me dicen:\", alias)\n",
        "\n",
        "print (\"Mi nombre es {} {} y mi edad es {}\". format(name, surname, age))\n",
        "print(\"Mi nombre es %s %s y mi edad es %d\" %(name, surname, age))\n",
        "print(f\"Mi nombre es {name} {surname} y mi edad es {age}\") #ESTA ES LA MEJOR FORMA"
      ],
      "metadata": {
        "colab": {
          "base_uri": "https://localhost:8080/"
        },
        "id": "qqwlg1H1k5IQ",
        "outputId": "f654e8b2-c76e-4492-996b-ae5de7a23ff4"
      },
      "execution_count": 3,
      "outputs": [
        {
          "output_type": "stream",
          "name": "stdout",
          "text": [
            "Me llamo: Gerardo Garrido\n",
            "Mi edad es: 24 , Mis amigos me dicen: BlackWolf\n",
            "Mi nombre es Gerardo Garrido y mi edad es 24\n",
            "Mi nombre es Gerardo Garrido y mi edad es 24\n",
            "Mi nombre es Gerardo Garrido y mi edad es 24\n"
          ]
        }
      ]
    },
    {
      "cell_type": "markdown",
      "source": [
        "## Strings como secuencia de caracteres"
      ],
      "metadata": {
        "id": "9gjecSzNl-L8"
      }
    },
    {
      "cell_type": "markdown",
      "source": [
        "Los strings son secuencias de letras unidades que forman palabras. Tenemos distintas maneras de descomponer un string en cada una de las unidades. Sin embargo la manera mas simple de extraer cada miembro de un string es desempaquetarlo en distintas variables."
      ],
      "metadata": {
        "id": "dXqpEr8RmGm9"
      }
    },
    {
      "cell_type": "code",
      "source": [
        "lenguaje = 'Python'\n",
        "a,b,c,d,e,f = lenguaje\n",
        "print(a)\n",
        "print(b)\n",
        "print(c)\n",
        "print(d)\n",
        "print(e)\n",
        "print(f)"
      ],
      "metadata": {
        "id": "MzC-RV6PmGMt"
      },
      "execution_count": null,
      "outputs": []
    },
    {
      "cell_type": "code",
      "source": [
        "primer_letra = lenguaje[0]\n",
        "segunda_letra = lenguaje[1]\n",
        "tercera_letra = lenguaje[2]\n",
        "print(primer_letra)\n",
        "print(segunda_letra)\n",
        "print(tercera_letra)"
      ],
      "metadata": {
        "id": "O1Uk_1EEoV67"
      },
      "execution_count": null,
      "outputs": []
    },
    {
      "cell_type": "markdown",
      "source": [
        "## Recortando String"
      ],
      "metadata": {
        "id": "Z8apjZmMoz7A"
      }
    },
    {
      "cell_type": "code",
      "source": [
        "lenguaje = 'Python'\n",
        "primeros_tres = lenguaje[0:3] #Starts at zero and up to 3 but not include 3\n",
        "print(primeros_tres) #Pyt\n",
        "\n",
        "ultimos_tres = lenguaje[3:6]\n",
        "prit(ultimos_tres) #hon\n",
        "\n",
        "#Otra Forma\n",
        "ultimos_tres = lenguaje[-3:]\n",
        "print(ultimos_tres) #hon\n",
        "ultimos_tres = lennguaje[3:]\n",
        "print(ultimos_tres) #hon"
      ],
      "metadata": {
        "id": "GwHodWzZo5cb"
      },
      "execution_count": null,
      "outputs": []
    },
    {
      "cell_type": "markdown",
      "source": [
        "## Invirtiendo Strings"
      ],
      "metadata": {
        "id": "3InsAGeHqW9-"
      }
    },
    {
      "cell_type": "code",
      "source": [
        "saludo = 'Hello, World!'\n",
        "print(saludo[::-1])"
      ],
      "metadata": {
        "id": "LkKpuWYgqZ6l"
      },
      "execution_count": null,
      "outputs": []
    },
    {
      "cell_type": "markdown",
      "source": [
        "## Saltando Letras"
      ],
      "metadata": {
        "id": "dAOPoG3fqj3C"
      }
    },
    {
      "cell_type": "code",
      "source": [
        "lenguaje = 'Python'\n",
        "new = lenguaje[0:6:2]\n",
        "print(new)"
      ],
      "metadata": {
        "id": "5lW3-FF3qoC7"
      },
      "execution_count": null,
      "outputs": []
    },
    {
      "cell_type": "markdown",
      "source": [
        "## Metodos con Strings"
      ],
      "metadata": {
        "id": "gjsOOv_Mq0vg"
      }
    },
    {
      "cell_type": "markdown",
      "source": [
        "### Convertir la primera latra en mayuscala"
      ],
      "metadata": {
        "id": "icSKJjLrq64X"
      }
    },
    {
      "cell_type": "code",
      "source": [
        "text = 'aprendiendo python en clase'\n",
        "print(text.capitalize())"
      ],
      "metadata": {
        "colab": {
          "base_uri": "https://localhost:8080/"
        },
        "id": "_p9WybkVq6sI",
        "outputId": "44424f21-4fe0-45b5-ac35-f6f52c4dc96a"
      },
      "execution_count": 7,
      "outputs": [
        {
          "output_type": "stream",
          "name": "stdout",
          "text": [
            "Aprendiendo python en clase\n"
          ]
        }
      ]
    },
    {
      "cell_type": "code",
      "source": [
        "text = 'aprendiendo'+'python'+'en'+'clase'\n",
        "print(type(text))\n",
        "text = 'aprendiendo python en clase'\n",
        "print(type(text))\n",
        "print(text.capitalize())"
      ],
      "metadata": {
        "colab": {
          "base_uri": "https://localhost:8080/"
        },
        "id": "P6ZYuAY5rTJ1",
        "outputId": "1bbb8baa-9585-4d7d-bc07-e0bff99078d0"
      },
      "execution_count": 10,
      "outputs": [
        {
          "output_type": "stream",
          "name": "stdout",
          "text": [
            "<class 'str'>\n",
            "<class 'str'>\n",
            "Aprendiendo python en clase\n"
          ]
        }
      ]
    },
    {
      "cell_type": "markdown",
      "source": [
        "## Contar las veces que se repite un caracter"
      ],
      "metadata": {
        "id": "iEqjAigpr55C"
      }
    },
    {
      "cell_type": "code",
      "source": [
        "text = 'aprendiendo python en clase'\n",
        "print(text.count('a'))\n",
        "print(text.count('y', 7, 14))\n",
        "print(text.count('en'))"
      ],
      "metadata": {
        "id": "txZV2QLpr9-B"
      },
      "execution_count": null,
      "outputs": []
    },
    {
      "cell_type": "markdown",
      "source": [
        "## Regresa la poscion donde se encuentra el caracter"
      ],
      "metadata": {
        "id": "6xVuw5gesScN"
      }
    },
    {
      "cell_type": "markdown",
      "source": [
        "Si no se encuentra regresa -1"
      ],
      "metadata": {
        "id": "uihAbH2ssnc0"
      }
    },
    {
      "cell_type": "code",
      "source": [
        "text = 'aprendiendo python en clase'\n",
        "print(text.find('y'))\n",
        "print(text.find('th'))\n",
        "print(text.find('am'))"
      ],
      "metadata": {
        "id": "ckAotx2XsW5l"
      },
      "execution_count": null,
      "outputs": []
    },
    {
      "cell_type": "markdown",
      "source": [
        "# **Actividad**\n",
        "\n",
        "Genera palindromos y comprueba que efectivamente lo son:"
      ],
      "metadata": {
        "id": "QRRNNmxbsuO8"
      }
    },
    {
      "cell_type": "code",
      "source": [
        "palindromo = 'No lata, no la totalidad arada dilato talón a talón.'\n",
        "print(palindromo[::-1])"
      ],
      "metadata": {
        "colab": {
          "base_uri": "https://localhost:8080/"
        },
        "id": "g9Rekft6suEt",
        "outputId": "8387cf4e-90f2-405c-ca74-80a2a11237d2"
      },
      "execution_count": 12,
      "outputs": [
        {
          "output_type": "stream",
          "name": "stdout",
          "text": [
            ".nólat a nólat otalid adara dadilatot al on ,atal oN\n"
          ]
        }
      ]
    }
  ]
}