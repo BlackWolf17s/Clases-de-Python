{
  "nbformat": 4,
  "nbformat_minor": 0,
  "metadata": {
    "colab": {
      "provenance": [],
      "include_colab_link": true
    },
    "kernelspec": {
      "name": "python3",
      "display_name": "Python 3"
    },
    "language_info": {
      "name": "python"
    }
  },
  "cells": [
    {
      "cell_type": "markdown",
      "metadata": {
        "id": "view-in-github",
        "colab_type": "text"
      },
      "source": [
        "<a href=\"https://colab.research.google.com/github/BlackWolf17s/Clases-de-Python/blob/main/15_02_23_Examen.ipynb\" target=\"_parent\"><img src=\"https://colab.research.google.com/assets/colab-badge.svg\" alt=\"Open In Colab\"/></a>"
      ]
    },
    {
      "cell_type": "markdown",
      "source": [
        "# **EXAMEN**"
      ],
      "metadata": {
        "id": "sQDMOwyEzfk-"
      }
    },
    {
      "cell_type": "markdown",
      "source": [
        "## **Bienvenida**"
      ],
      "metadata": {
        "id": "gNcjhhZl0WQe"
      }
    },
    {
      "cell_type": "code",
      "source": [
        "print('BIENVENIDO A LA UNIVERSIDAD QUARONI')"
      ],
      "metadata": {
        "colab": {
          "base_uri": "https://localhost:8080/"
        },
        "id": "SVnaCNUF7_6k",
        "outputId": "0813ed76-c7d3-43f9-899c-d91b73b1ad34"
      },
      "execution_count": null,
      "outputs": [
        {
          "output_type": "stream",
          "name": "stdout",
          "text": [
            "BIENVENIDO A LA UNIVERSIDAD QUARONI\n"
          ]
        }
      ]
    },
    {
      "cell_type": "markdown",
      "source": [
        "## **Solicitar Datos De Aspirante**"
      ],
      "metadata": {
        "id": "sY7c7U7D8GFU"
      }
    },
    {
      "cell_type": "code",
      "source": [
        "Nombre = input('Ingresa tu nombre(s): ')\n",
        "Apellido_pat = input('Ingresa tu apellido paterno: ')\n",
        "Apellido_mat = input('Ingresa tu apellido materno: ')\n",
        "Edad = input('Ingresa tu edad: ')\n",
        "Carrera = input('Ingresa la carrera a la que quieras entrar: ')\n",
        "\n",
        "aspirante = {\n",
        "    'Nombre' :  Nombre,\n",
        "    'Apellido_pat' : Apellido_pat,\n",
        "    'Apellido_mat' : Apellido_mat,\n",
        "    'Edad' : Edad,\n",
        "    'Carrera' : Carrera,\n",
        "    'Seleccionado' : False \n",
        "}\n",
        "\n",
        "print(aspirante)"
      ],
      "metadata": {
        "colab": {
          "base_uri": "https://localhost:8080/"
        },
        "id": "FPrOyype8Koc",
        "outputId": "bb5a813d-bdd5-4591-b718-a98665fb9d48"
      },
      "execution_count": 17,
      "outputs": [
        {
          "output_type": "stream",
          "name": "stdout",
          "text": [
            "Ingresa tu nombre(s): Gerardo Vianney\n",
            "Ingresa tu apellido paterno: Garrido\n",
            "Ingresa tu apellido materno: Ewald\n",
            "Ingresa tu edad: 24\n",
            "Ingresa la carrera a la que quieras entrar: Sistemas}\n",
            "{'Nombre': 'Gerardo Vianney', 'Apellido_pat': 'Garrido', 'Apellido_mat': 'Ewald', 'Edad': '24', 'Carrera': 'Sistemas}', 'Seleccionado': False}\n"
          ]
        }
      ]
    },
    {
      "cell_type": "markdown",
      "source": [
        "## **Solicitar Ultimas Calificaciones Finales**"
      ],
      "metadata": {
        "id": "O2fxPL1Z8P8k"
      }
    },
    {
      "cell_type": "code",
      "source": [
        "9\n",
        "print('Ingresa tus calificaciones del ultimo semestre de preparatoria')\n",
        "calf1 = float(input('Ingresa tu primera calificacion: '))\n",
        "calf2 = float(input('Ingresa tu segunda calificacion: '))\n",
        "calf3 = float(input('Ingresa tu tercera calificacion: '))\n",
        "calf4 = float(input('Ingresa tu cuarta calificacion: '))\n",
        "calf5 = float(input('Ingresa tu quinta calificacion: '))\n",
        "\n",
        "calificaciones = [calf1, calf2, calf3, calf4, calf5]"
      ],
      "metadata": {
        "colab": {
          "base_uri": "https://localhost:8080/"
        },
        "id": "bRNjkNFG8a3c",
        "outputId": "541977ee-d227-40b5-94a7-5000da69075c"
      },
      "execution_count": 18,
      "outputs": [
        {
          "name": "stdout",
          "output_type": "stream",
          "text": [
            "Ingresa tus calificaciones del ultimo semestre de preparatoria\n",
            "Ingresa tu primera calificacion: 9\n",
            "Ingresa tu segunda calificacion: 9\n",
            "Ingresa tu tercera calificacion: 9\n",
            "Ingresa tu cuarta calificacion: 9\n",
            "Ingresa tu quinta calificacion: 9\n"
          ]
        }
      ]
    },
    {
      "cell_type": "markdown",
      "source": [
        "## **Calcular el Promedio**"
      ],
      "metadata": {
        "id": "8Sn5GjNi8fxM"
      }
    },
    {
      "cell_type": "code",
      "source": [
        "promedio = sum(calificaciones)/ len(calificaciones)\n",
        "print('Su promedio es de: ', promedio)"
      ],
      "metadata": {
        "colab": {
          "base_uri": "https://localhost:8080/"
        },
        "id": "NG5moCO28ix0",
        "outputId": "d5178f47-faa6-46d8-ded2-c353f79bfedb"
      },
      "execution_count": 19,
      "outputs": [
        {
          "output_type": "stream",
          "name": "stdout",
          "text": [
            "Su promedio es de:  9.0\n"
          ]
        }
      ]
    },
    {
      "cell_type": "markdown",
      "source": [
        "## **Aprobado O Rechazado De Acuerdo Al Promedio.**"
      ],
      "metadata": {
        "id": "1FcWtaIM8pbM"
      }
    },
    {
      "cell_type": "code",
      "source": [
        "if promedio >= 7: \n",
        "  print('Felicidades es apto para aplicar el examen de admision')\n",
        "else: \n",
        "  print('Lo sentimos no es apto para seguir aplicando')"
      ],
      "metadata": {
        "colab": {
          "base_uri": "https://localhost:8080/"
        },
        "id": "inS96yw883IE",
        "outputId": "b6fb1f6c-057c-42e2-9735-e2332b8bee49"
      },
      "execution_count": 23,
      "outputs": [
        {
          "output_type": "stream",
          "name": "stdout",
          "text": [
            "Felicidades es apto para aplicar el examen de admision\n"
          ]
        }
      ]
    },
    {
      "cell_type": "markdown",
      "source": [
        "## **Aplicar Examen De Admición.**"
      ],
      "metadata": {
        "id": "bIxx0QDx8-zE"
      }
    },
    {
      "cell_type": "code",
      "execution_count": 28,
      "metadata": {
        "id": "86FGYSlTooQ5",
        "colab": {
          "base_uri": "https://localhost:8080/"
        },
        "outputId": "85b43a05-ae62-40eb-f451-0801629c6e0e"
      },
      "outputs": [
        {
          "output_type": "stream",
          "name": "stdout",
          "text": [
            "A continuación se le aplicará un examen rápido de tres preguntas.\n",
            "¿Cual es el simbolo representativo de la bandera de Mexico? el aguila\n",
            "¿Cual de las siguientes palabras no lleva acento, (MANGÓ - ÁRBOL - LÁPIZ - CÓDIGO)? mango\n",
            "¿Cuanto es 45 - 90? 45\n",
            "\n",
            "Felicidades, usted ha sido elegido en la carrera de Sistemas}, Bienvenido.\n",
            "Este es su puntaje:  3\n"
          ]
        }
      ],
      "source": [
        "print('A continuación se le aplicará un examen rápido de tres preguntas.')\n",
        "respuesta_uno = str (input('¿Cual es el simbolo representativo de la bandera de Mexico? '))\n",
        "respuesta_dos = str (input('¿Cual de las siguientes palabras no lleva acento, (MANGÓ - ÁRBOL - LÁPIZ - CÓDIGO)? '))\n",
        "respuesta_tres = int (input('¿Cuanto es 45 - 90? '))\n",
        "\n",
        "correctas = 0\n",
        "errores = 0\n",
        "\n",
        "if respuesta_uno == 'el aguila':\n",
        "  correctas += 1\n",
        "else:\n",
        "  errores += 1\n",
        "\n",
        "if respuesta_dos == 'mango':\n",
        "  correctas += 1\n",
        "else:\n",
        "  errores += 1\n",
        "\n",
        "if respuesta_tres == 45:\n",
        "  correctas += 1\n",
        "else:\n",
        "  errores += 1\n",
        "\n",
        "if errores >= 2:\n",
        "  print('\\nLo sentimos usted ha sido rechazado.')\n",
        "else:\n",
        "\n",
        "  aspirante = {\n",
        "    'Nombre' :  Nombre,\n",
        "    'Apellido_pat' : Apellido_pat,\n",
        "    'Apellido_mat' : Apellido_mat,\n",
        "    'Edad' : Edad,\n",
        "    'Carrera' : Carrera,\n",
        "    'Seleccionado' : True \n",
        "}\n",
        "\n",
        "print(f'\\nFelicidades, usted ha sido elegido en la carrera de {Carrera}, Bienvenido.')\n",
        "print('Este es su puntaje: ', correctas)\n"
      ]
    },
    {
      "cell_type": "markdown",
      "source": [
        "## **Bienvenido A La Universidad**"
      ],
      "metadata": {
        "id": "DQ40woXk9Scb"
      }
    },
    {
      "cell_type": "code",
      "source": [
        "print('Bienvenido a Universidad Quaroni')\n",
        "print('Nos complace informarle que usted ha sido aceptado para formar parte de nuestra universidad.')\n",
        "\n",
        "print(aspirante)"
      ],
      "metadata": {
        "colab": {
          "base_uri": "https://localhost:8080/"
        },
        "id": "stAtgLN09Ssj",
        "outputId": "a7157560-24bd-459f-b8e2-e064509a4c51"
      },
      "execution_count": 29,
      "outputs": [
        {
          "output_type": "stream",
          "name": "stdout",
          "text": [
            "Bienvenido a Universidad Quaroni\n",
            "Nos complace informarle que usted ha sido aceptado para formar parte de nuestra universidad.\n",
            "{'Nombre': 'Gerardo Vianney', 'Apellido_pat': 'Garrido', 'Apellido_mat': 'Ewald', 'Edad': '24', 'Carrera': 'Sistemas}', 'Seleccionado': True}\n"
          ]
        }
      ]
    }
  ]
}