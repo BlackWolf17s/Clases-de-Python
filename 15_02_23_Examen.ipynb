{
  "nbformat": 4,
  "nbformat_minor": 0,
  "metadata": {
    "colab": {
      "provenance": [],
      "include_colab_link": true
    },
    "kernelspec": {
      "name": "python3",
      "display_name": "Python 3"
    },
    "language_info": {
      "name": "python"
    }
  },
  "cells": [
    {
      "cell_type": "markdown",
      "metadata": {
        "id": "view-in-github",
        "colab_type": "text"
      },
      "source": [
        "<a href=\"https://colab.research.google.com/github/BlackWolf17s/Clases-de-Python/blob/main/15_02_23_Examen.ipynb\" target=\"_parent\"><img src=\"https://colab.research.google.com/assets/colab-badge.svg\" alt=\"Open In Colab\"/></a>"
      ]
    },
    {
      "cell_type": "markdown",
      "source": [
        "# **EXAMEN**"
      ],
      "metadata": {
        "id": "sQDMOwyEzfk-"
      }
    },
    {
      "cell_type": "markdown",
      "source": [
        "## **Bienvenida**"
      ],
      "metadata": {
        "id": "gNcjhhZl0WQe"
      }
    },
    {
      "cell_type": "code",
      "source": [
        "print('BIENVENIDO A LA UNIVERSIDAD QUARONI')"
      ],
      "metadata": {
        "colab": {
          "base_uri": "https://localhost:8080/"
        },
        "id": "SVnaCNUF7_6k",
        "outputId": "0813ed76-c7d3-43f9-899c-d91b73b1ad34"
      },
      "execution_count": 7,
      "outputs": [
        {
          "output_type": "stream",
          "name": "stdout",
          "text": [
            "BIENVENIDO A LA UNIVERSIDAD QUARONI\n"
          ]
        }
      ]
    },
    {
      "cell_type": "markdown",
      "source": [
        "## **Solicitar Datos De Aspirante**"
      ],
      "metadata": {
        "id": "sY7c7U7D8GFU"
      }
    },
    {
      "cell_type": "code",
      "source": [
        "Nombre = input('Ingresa tu nombre(s): ')\n",
        "Apellido_pat = input('Ingresa tu apellido paterno: ')\n",
        "Apellido_mat = input('Ingresa tu apellido materno: ')\n",
        "Edad = input('Ingresa tu edad: ')\n",
        "Carrera = input('Ingresa la carrera a la que quieras entrar: ')\n",
        "\n",
        "seleccionado = False \n",
        "\n",
        "aspirante = {\n",
        "    'Nombre' :  Nombre,\n",
        "    'Apellido_pat' : Apellido_pat,\n",
        "    'Apellido_mat' : Apellido_mat,\n",
        "    'Edad' : Edad,\n",
        "    'Carrera' : Carrera,\n",
        "}\n",
        "\n",
        "print(aspirante)"
      ],
      "metadata": {
        "colab": {
          "base_uri": "https://localhost:8080/"
        },
        "id": "FPrOyype8Koc",
        "outputId": "f7944d72-7bf2-4d35-a2e6-06a6e9d630e9"
      },
      "execution_count": 8,
      "outputs": [
        {
          "output_type": "stream",
          "name": "stdout",
          "text": [
            "Ingresa tu nombre(s): Gerardo Vianney\n",
            "Ingresa tu apellido paterno: Garrido\n",
            "Ingresa tu apellido materno: Ewald\n",
            "Ingresa tu edad: 24\n",
            "Ingresa la carrera a la que quieras entrar: Sistemas\n",
            "{'Nombre': 'Gerardo Vianney', 'Apellido_pat': 'Garrido', 'Apellido_mat': 'Ewald', 'Edad': '24', 'Carrera': 'Sistemas'}\n"
          ]
        }
      ]
    },
    {
      "cell_type": "markdown",
      "source": [
        "## **Solicitar Ultimas Calificaciones Finales**"
      ],
      "metadata": {
        "id": "O2fxPL1Z8P8k"
      }
    },
    {
      "cell_type": "code",
      "source": [
        "print('Ingresa tus calificaciones del ultimo semestre de preparatoria')\n",
        "calf1 = float(input('Ingresa tu primera calificacion: '))\n",
        "calf2 = float(input('Ingresa tu segunda calificacion: '))\n",
        "calf3 = float(input('Ingresa tu tercera calificacion: '))\n",
        "calf4 = float(input('Ingresa tu cuarta calificacion: '))\n",
        "calf5 = float(input('Ingresa tu quinta calificacion: '))\n",
        "\n",
        "calificaciones = [calf1, calf2, calf3, calf4, calf5]"
      ],
      "metadata": {
        "colab": {
          "base_uri": "https://localhost:8080/"
        },
        "id": "bRNjkNFG8a3c",
        "outputId": "92a1a558-10a2-4616-fb14-3fd6104afcfd"
      },
      "execution_count": 9,
      "outputs": [
        {
          "name": "stdout",
          "output_type": "stream",
          "text": [
            "Ingresa tus calificaciones del ultimo semestre de preparatoria\n",
            "Ingresa tu primera calificacion: 9\n",
            "Ingresa tu segunda calificacion: 8\n",
            "Ingresa tu tercera calificacion: 7\n",
            "Ingresa tu cuarta calificacion: 5\n",
            "Ingresa tu quinta calificacion: 10\n"
          ]
        }
      ]
    },
    {
      "cell_type": "markdown",
      "source": [
        "## **Calcular el Promedio**"
      ],
      "metadata": {
        "id": "8Sn5GjNi8fxM"
      }
    },
    {
      "cell_type": "code",
      "source": [
        "promedio = sum(calificaciones)/ len(calificaciones)\n",
        "print('Su promedio es de: ', promedio)"
      ],
      "metadata": {
        "colab": {
          "base_uri": "https://localhost:8080/"
        },
        "id": "NG5moCO28ix0",
        "outputId": "da715d57-903c-45f1-b855-059fbbdbbb59"
      },
      "execution_count": 10,
      "outputs": [
        {
          "output_type": "stream",
          "name": "stdout",
          "text": [
            "Su promedio es de:  7.8\n"
          ]
        }
      ]
    },
    {
      "cell_type": "markdown",
      "source": [
        "## **Aprobado O Rechazado De Acuerdo Al Promedio.**"
      ],
      "metadata": {
        "id": "1FcWtaIM8pbM"
      }
    },
    {
      "cell_type": "code",
      "source": [
        "if promedio >= 7: \n",
        "  print('Felicidades es apto para aplicar el examen de admision')\n",
        "else: \n",
        "  print('Lo sentimos no es apto para seguir aplicando, el estatus del aspirante es:', seleccionado)"
      ],
      "metadata": {
        "colab": {
          "base_uri": "https://localhost:8080/"
        },
        "id": "inS96yw883IE",
        "outputId": "823cd5de-be0b-49c9-fbda-627f5cc1552e"
      },
      "execution_count": 11,
      "outputs": [
        {
          "output_type": "stream",
          "name": "stdout",
          "text": [
            "Felicidades es apto para aplicar el examen de admision\n"
          ]
        }
      ]
    },
    {
      "cell_type": "markdown",
      "source": [
        "## **Aplicar Examen De Admición.**"
      ],
      "metadata": {
        "id": "bIxx0QDx8-zE"
      }
    },
    {
      "cell_type": "code",
      "execution_count": 15,
      "metadata": {
        "id": "86FGYSlTooQ5",
        "colab": {
          "base_uri": "https://localhost:8080/"
        },
        "outputId": "b90ac915-92c5-47f0-8178-f0f2f75344e6"
      },
      "outputs": [
        {
          "output_type": "stream",
          "name": "stdout",
          "text": [
            "A continuación se le aplicará un examen rápido de tres preguntas.\n",
            "¿Cual es el simbolo representativo de la bandera de Mexico? el aguila\n",
            "¿Cual de las siguientes palabras no lleva acento, (MANGÓ - ÁRBOL - LÁPIZ - CÓDIGO)? mango\n",
            "¿Cuanto es 45 - 90? 45\n",
            "\n",
            "Felicidades, usted ha sido elegido en la carrera de Sistemas, Bienvenido.\n",
            "Este es su puntaje:  3\n",
            "True\n"
          ]
        }
      ],
      "source": [
        "print('A continuación se le aplicará un examen rápido de tres preguntas.')\n",
        "respuesta_uno = str (input('¿Cual es el simbolo representativo de la bandera de Mexico? '))\n",
        "respuesta_dos = str (input('¿Cual de las siguientes palabras no lleva acento, (MANGÓ - ÁRBOL - LÁPIZ - CÓDIGO)? '))\n",
        "respuesta_tres = int (input('¿Cuanto es 45 - 90? '))\n",
        "\n",
        "correctas = 0\n",
        "errores = 0\n",
        "\n",
        "if respuesta_uno == 'el aguila':\n",
        "  correctas += 1\n",
        "else:\n",
        "  errores += 1\n",
        "\n",
        "if respuesta_dos == 'mango':\n",
        "  correctas += 1\n",
        "else:\n",
        "  errores += 1\n",
        "\n",
        "if respuesta_tres == 45:\n",
        "  correctas += 1\n",
        "else:\n",
        "  errores += 1\n",
        "\n",
        "if errores >= 2:\n",
        "  print('\\nLo sentimos usted ha sido rechazado.')\n",
        "else:\n",
        "  seleccionado = True\n",
        "\n",
        "  print(f'\\nFelicidades, usted ha sido elegido en la carrera de {Carrera}, Bienvenido.')\n",
        "  print('Este es su puntaje: ', correctas)\n",
        "  print(seleccionado)\n"
      ]
    },
    {
      "cell_type": "markdown",
      "source": [
        "## **Bienvenido A La Universidad**"
      ],
      "metadata": {
        "id": "DQ40woXk9Scb"
      }
    },
    {
      "cell_type": "code",
      "source": [
        "print('Bienvenido a Universidad Quaroni')\n",
        "print('Nos complace informarle que usted ha sido aceptado para formar parte de nuestra universidad.')\n",
        "\n",
        "print(aspirante)"
      ],
      "metadata": {
        "colab": {
          "base_uri": "https://localhost:8080/"
        },
        "id": "stAtgLN09Ssj",
        "outputId": "291f7c90-8ac4-4a22-aab5-dfbf56e27942"
      },
      "execution_count": 16,
      "outputs": [
        {
          "output_type": "stream",
          "name": "stdout",
          "text": [
            "Bienvenido a Universidad Quaroni\n",
            "Nos complace informarle que usted ha sido aceptado para formar parte de nuestra universidad.\n",
            "{'Nombre': 'Gerardo Vianney', 'Apellido_pat': 'Garrido', 'Apellido_mat': 'Ewald', 'Edad': '24', 'Carrera': 'Sistemas'}\n"
          ]
        }
      ]
    }
  ]
}