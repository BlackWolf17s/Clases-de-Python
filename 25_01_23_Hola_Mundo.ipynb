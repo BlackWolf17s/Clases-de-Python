{
  "nbformat": 4,
  "nbformat_minor": 0,
  "metadata": {
    "colab": {
      "provenance": [],
      "authorship_tag": "ABX9TyOD5QGBQqrPn5D+6/6F4Yny",
      "include_colab_link": true
    },
    "kernelspec": {
      "name": "python3",
      "display_name": "Python 3"
    },
    "language_info": {
      "name": "python"
    }
  },
  "cells": [
    {
      "cell_type": "markdown",
      "metadata": {
        "id": "view-in-github",
        "colab_type": "text"
      },
      "source": [
        "<a href=\"https://colab.research.google.com/github/BlackWolf17s/Clases-de-Python/blob/main/25_01_23_Hola_Mundo.ipynb\" target=\"_parent\"><img src=\"https://colab.research.google.com/assets/colab-badge.svg\" alt=\"Open In Colab\"/></a>"
      ]
    },
    {
      "cell_type": "markdown",
      "source": [
        "### <h1><b>Primer Programa<b><h1>\n",
        "### Practicas de Python.\n",
        "✅✅✅✅✅✅✅✅✅\n",
        "\n",
        "\n"
      ],
      "metadata": {
        "id": "PIxP-E5ooS3g"
      }
    },
    {
      "cell_type": "code",
      "execution_count": null,
      "metadata": {
        "colab": {
          "base_uri": "https://localhost:8080/"
        },
        "id": "c6RmFrVVnJ37",
        "outputId": "86c44bcf-5987-4dfe-8eed-884b1db787c5"
      },
      "outputs": [
        {
          "output_type": "stream",
          "name": "stdout",
          "text": [
            "Hola Mundo\n"
          ]
        }
      ],
      "source": [
        "print(\"Hola Mundo\")"
      ]
    },
    {
      "cell_type": "code",
      "source": [
        "print(\"No necesitamos declarar variables.\")\n",
        "numero1=int(input(\"Ingresa Numero Uno:\"))\n",
        "numero2=int(input(\"Ingresa Numero Dos:\"))\n",
        "suma=numero1+numero2\n",
        "print(f\"La Suma es: {suma}\")"
      ],
      "metadata": {
        "colab": {
          "base_uri": "https://localhost:8080/"
        },
        "id": "LBLvnc7XpqJn",
        "outputId": "4d769d99-d4bb-4252-f15a-1230db415bb6"
      },
      "execution_count": null,
      "outputs": [
        {
          "output_type": "stream",
          "name": "stdout",
          "text": [
            "No necesitamos declarar variables.\n",
            "Ingresa Numero Uno:5\n",
            "Ingresa Numero Dos:8\n",
            "La Suma es: 13\n"
          ]
        }
      ]
    },
    {
      "cell_type": "code",
      "source": [
        "print(\"Tambien puedes hacer cambiar le valor de las variables muy drasticamente.\")\n",
        "suma = \"Este es un cambio drastico\"\n",
        "print(f\"Ahora ya no es un numero, ahora es un texto: {suma}\")"
      ],
      "metadata": {
        "colab": {
          "base_uri": "https://localhost:8080/"
        },
        "id": "8sipI5uNrE3B",
        "outputId": "773ebee3-9b98-452b-857f-0ce965d57a97"
      },
      "execution_count": null,
      "outputs": [
        {
          "output_type": "stream",
          "name": "stdout",
          "text": [
            "Tambien puedes hacer cambiar le valor de las variables muy drasticamente.\n",
            "Ahora ya no es un numero, ahora es un texto: Este es un cambio drastico\n"
          ]
        }
      ]
    },
    {
      "cell_type": "code",
      "source": [
        "print(\"Promedio de 10 Calificacines\")\n",
        "num1=float(input(\"Ingresa Calificación 1:\"))\n",
        "num2=float(input(\"Ingresa Calificación 2:\"))\n",
        "num3=float(input(\"Ingresa Calificación 3:\"))\n",
        "num4=float(input(\"Ingresa Calificación 4:\"))\n",
        "num5=float(input(\"Ingresa Calificación 5:\"))\n",
        "num6=float(input(\"Ingresa Calificación 6:\"))\n",
        "num7=float(input(\"Ingresa Calificación 7:\"))\n",
        "num8=float(input(\"Ingresa Calificación 8:\"))\n",
        "num9=float(input(\"Ingresa Calificación 9:\"))\n",
        "num10=float(input(\"Ingresa Calificación 10:\"))\n",
        "suma = (num1+num2+num3+num4+num5+num6+num7+num8+num9+num10)/10\n",
        "print(f\"Tu Promedio es: {suma}\")"
      ],
      "metadata": {
        "colab": {
          "base_uri": "https://localhost:8080/"
        },
        "id": "QkrhvfX6smGI",
        "outputId": "ad098bf2-1cc0-4088-a881-c060ff42f762"
      },
      "execution_count": null,
      "outputs": [
        {
          "output_type": "stream",
          "name": "stdout",
          "text": [
            "Promedio de 10 Calificacines\n",
            "Ingresa Calificación 1:10\n",
            "Ingresa Calificación 2:9.6\n",
            "Ingresa Calificación 3:8.3\n",
            "Ingresa Calificación 4:4.5\n",
            "Ingresa Calificación 5:5.5\n",
            "Ingresa Calificación 6:10\n",
            "Ingresa Calificación 7:9\n",
            "Ingresa Calificación 8:8\n",
            "Ingresa Calificación 9:7.5\n",
            "Ingresa Calificación 10:6.6\n",
            "Tu Promedio es: 7.9\n"
          ]
        }
      ]
    }
  ]
}